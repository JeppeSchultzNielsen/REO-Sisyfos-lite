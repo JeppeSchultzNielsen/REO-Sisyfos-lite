{
 "cells": [
  {
   "cell_type": "code",
   "execution_count": 1,
   "id": "cf5cf428-4c79-4a26-a15d-43653ae60cfe",
   "metadata": {},
   "outputs": [],
   "source": [
    "import pandas as pd\n",
    "import matplotlib.pyplot as plt\n",
    "import numpy as np"
   ]
  },
  {
   "cell_type": "code",
   "execution_count": 2,
   "id": "13fb5c21-5fd7-4073-a832-31a9a6c90ea4",
   "metadata": {},
   "outputs": [],
   "source": [
    "# En funktion så man kan se hele dataframen (pas på med dette da det nemt kan crashe)\n",
    "def print_full(x):\n",
    "    pd.set_option('display.max_rows', len(x))\n",
    "    display(x)\n",
    "    pd.reset_option('display.max_rows')"
   ]
  },
  {
   "cell_type": "code",
   "execution_count": 3,
   "id": "b15ec466-f371-4bac-a410-c5deecfeeb03",
   "metadata": {},
   "outputs": [],
   "source": [
    "# Loader text filen med simulations resultater teksten i '' er filnavn til simulation\n",
    "Sim = pd.read_csv('Sim_2035_1985.txt', sep=\"\\t\", index_col=\"hour\")\n",
    "\n",
    "# det her renser dataframen lidt det behøves ik ændres i\n",
    "if 'Unnamed: 404' in Sim.columns and Sim['Unnamed: 404'].isnull().all():\n",
    "    Sim = Sim.drop('Unnamed: 404', axis=1)"
   ]
  },
  {
   "cell_type": "code",
   "execution_count": 4,
   "id": "ad20fb3d-8a3e-4352-88be-b5eeb4360136",
   "metadata": {},
   "outputs": [],
   "source": [
    "#Hvis man er interesser i at se hvordan dataframen ser ud før den er behandlet (fjern #)\n",
    "#Sim"
   ]
  },
  {
   "cell_type": "code",
   "execution_count": 5,
   "id": "641ffe8c-1196-4ec0-881b-63ea53e97299",
   "metadata": {},
   "outputs": [],
   "source": [
    "def plot(x_data, y_data, title=None, freq=None, start=None, end=None):\n",
    "    \"\"\"\n",
    "    plot data med givne x og y værdier.\n",
    "\n",
    "    Parametere:\n",
    "        x_data (array or array-like): Data til x akse.\n",
    "        y_data (array or array-like): Data til y akse.\n",
    "        title (str): Title til plottet.\n",
    "        freq (int): Dette er en multiplikator effekt. hvis den er sat til f.eks. 24 så summere den per 24 timer\n",
    "        start (int): Start timen.\n",
    "        end (int): Slut timen.\n",
    "    \"\"\"\n",
    "    \n",
    "    x_data = pd.to_datetime(x_data, unit='h', origin=pd.Timestamp('2022-01-01'))\n",
    "    x_num = np.arange(len(x_data)) # create an array of integers from 0 to the length of x_data\n",
    "    \n",
    "    if freq is None:\n",
    "        # Plot all data points\n",
    "        x = x_num[start:end]\n",
    "        y = y_data[start:end]\n",
    "        plt.plot(x, y)\n",
    "    else:\n",
    "        # Resample y_data based on the specified frequency\n",
    "        grouped_data = pd.DataFrame({'x': x_data, 'y': y_data}).set_index('x').resample(f\"{freq}H\").sum().reset_index()\n",
    "        start_index = start // freq\n",
    "        end_index = end // freq\n",
    "        x = np.arange(len(grouped_data))[start_index:end_index]\n",
    "        y = grouped_data['y'][start_index:end_index]\n",
    "        plt.plot(x, y)\n",
    "    \n",
    "    plt.xlabel('X Data')\n",
    "    plt.ylabel(y_data.name if hasattr(y_data, 'name') else 'Y Data')\n",
    "    plt.title(title if title else 'Dynamic Range Plot')\n",
    "    plt.autoscale(enable=True, axis='both', tight=True)\n",
    "    \n",
    "    plt.show()"
   ]
  },
  {
   "cell_type": "code",
   "execution_count": 6,
   "id": "6b57e12c-054e-4c8e-a6b6-fbbd3b4b496a",
   "metadata": {},
   "outputs": [
    {
     "data": {
      "image/png": "[encoded data removed]",
      "text/plain": [
       "<Figure size 432x288 with 1 Axes>"
      ]
     },
     "metadata": {
      "needs_background": "light"
     },
     "output_type": "display_data"
    }
   ],
   "source": [
    "# Her vælges timen som x akse (Sim.index er timer), derudover er demand i DK1 valgt som y væriden\n",
    "# Dette kan ændres til alle kolonne værdier med at ændre til Sim['KOLLONE MAN VIL UNDERSØGE']\n",
    "# freq kan også ændres, ved None vil det bare hver pr. time. tiden der er valgt at kigge på er de sidste 100 timer\n",
    "plot(Sim.index, Sim['DK1_demand'], title='Demand over time', freq=None, start=8660, end=8760)"
   ]
  },
  {
   "cell_type": "code",
   "execution_count": 7,
   "id": "5bbaaa25-aae6-4f71-92e7-de0a730d78c3",
   "metadata": {},
   "outputs": [
    {
     "name": "stdout",
     "output_type": "stream",
     "text": [
      "Total EENS NOs: 0.0105999999999999\n",
      "Total EENS GB: 0.0\n",
      "Total EENS NL: 10884.5396\n"
     ]
    }
   ],
   "source": [
    "# Her undrsøger jeg om der er EENS i de tre lande som ekspoterer massere af energi\n",
    "print(f'Total EENS NOs: {Sim[\"NOs_EENS\"].sum()}')\n",
    "print(f'Total EENS GB: {Sim[\"GB_EENS\"].sum()}')\n",
    "print(f'Total EENS NL: {Sim[\"NL_EENS\"].sum()}')"
   ]
  },
  {
   "cell_type": "code",
   "execution_count": 8,
   "id": "ec51d0e9-c733-427b-9b2c-ad31b05aa520",
   "metadata": {},
   "outputs": [
    {
     "name": "stdout",
     "output_type": "stream",
     "text": [
      "Total EENS DK1: 11277.435\n",
      "Total EENS DK2: 17683.729900000002\n"
     ]
    }
   ],
   "source": [
    "# Her undrsøger jeg om der er EENS i de tre lande som ekspoterer massere af energi\n",
    "print(f'Total EENS DK1: {Sim[\"DK1_EENS\"].sum()}')\n",
    "print(f'Total EENS DK2: {Sim[\"DK2_EENS\"].sum()}')"
   ]
  },
  {
   "cell_type": "code",
   "execution_count": 9,
   "id": "5e88086a-1c37-494a-ac80-e6b806e3691f",
   "metadata": {},
   "outputs": [
    {
     "name": "stdout",
     "output_type": "stream",
     "text": [
      "The highest NL_EENS is 2209.09 and occurs at hour 8249.\n",
      "NL_EENS is positive 480 times.\n"
     ]
    }
   ],
   "source": [
    "# I den her blok undersøger jeg hvad den højeste time værdi af EENS er i holland samt \n",
    "# undersøger hvor mange gange den er positiv\n",
    "# dette er lidt et levn fra dengang NL havde meget lav energi produktion og halv ligegyldigt nu\n",
    "max_NL_EENS = Sim['NL_EENS'].max()\n",
    "idxmax_NL_EENS = Sim['NL_EENS'].idxmax()\n",
    "\n",
    "print(f'The highest NL_EENS is {max_NL_EENS:.2f} and occurs at hour {idxmax_NL_EENS}.')\n",
    "\n",
    "# hvor mange gange er den psoitiv\n",
    "num_positive = (Sim['NL_EENS'] > 0).sum()\n",
    "print(f\"NL_EENS is positive {num_positive} times.\")"
   ]
  },
  {
   "cell_type": "code",
   "execution_count": 10,
   "id": "c5d0461c-d189-4bd9-ae21-5bed888ba9a5",
   "metadata": {},
   "outputs": [],
   "source": [
    "# Det næste stykke bliver brugt til at finde hvornår der er lav energi perioder. det som bliver defineret som\n",
    "# Nodes er de lande (deres zoner) som jeg summere over og tjekker energi for.\n",
    "nodes = ['DK1', 'DK2', 'DKBO', 'DKKF', 'DKEI', 'NOn', 'NOm', 'NOs', 'SE1', 'SE2', 'SE3', 'SE4', 'DELU']\n",
    "cols = ['Wind', 'Solar']\n",
    "Sim_nodes = Sim.loc[:, [(node + '_' + col) for node in nodes for col in cols if (node + '_' + col) in Sim.columns]]"
   ]
  },
  {
   "cell_type": "code",
   "execution_count": 11,
   "id": "31d386e6-d804-4dfc-b0da-eee6046d9bb9",
   "metadata": {},
   "outputs": [],
   "source": [
    "# Her summerer jeg over alle perioderne\n",
    "hourly_energy = Sim_nodes.sum(axis=1)\n",
    "\n",
    "# vælger et threshold for hvad der skal være grænsen af hvad der bliver defineret som en arbitrær værdi.\n",
    "# dette kan vælges indtil man har så mange periode man ønsker\n",
    "threshold = 5430000\n",
    "length = 120 # her er længden valgt til 5 dage 5*24=120"
   ]
  },
  {
   "cell_type": "code",
   "execution_count": 12,
   "id": "6c5da09a-ed6d-4715-bc0c-af6b26366b6e",
   "metadata": {},
   "outputs": [],
   "source": [
    "low_periods = [] #Først laves en tom dictionary\n",
    "for i in range(len(hourly_energy) - (length-1)): # Looper gennem alle timer hvor der er længden tilbage (så  \n",
    "    # der kan være hele perioder på hele længden\n",
    "    total_energy = sum(hourly_energy[i:i+length]) # summer energien for hele perioden\n",
    "    if total_energy < threshold: #Hvis summen er mindre end threhold fortsætte loopet\n",
    "        i_range = range(i, i+length)  # Opret et range objekt, der går fra i til i+length.\n",
    "        if all(i not in low_periods for low_periods in low_periods for i in i_range):  # Tjek om alle i i i_range ikke \n",
    "        # er i nogen af de tidligere perioder.\n",
    "            low_periods.append((i, i+(length-1)))  # Tilføj den nuværende periode (i til i+length-1) til \n",
    "            #listen af perioder."
   ]
  },
  {
   "cell_type": "code",
   "execution_count": 13,
   "id": "db8e2a54-9bff-443e-995f-0d5fafbe5e88",
   "metadata": {},
   "outputs": [
    {
     "name": "stdout",
     "output_type": "stream",
     "text": [
      "Low energy production period from hour 805 to 924. Total energy production: 5405577.33.\n",
      "Low energy production period from hour 1290 to 1409. Total energy production: 5418925.67.\n",
      "Low energy production period from hour 1492 to 1611. Total energy production: 5362738.17.\n",
      "Low energy production period from hour 4088 to 4207. Total energy production: 5418609.19.\n",
      "Low energy production period from hour 5425 to 5544. Total energy production: 5428499.94.\n",
      "Low energy production period from hour 6334 to 6453. Total energy production: 5395780.73.\n",
      "Low energy production period from hour 7149 to 7268. Total energy production: 5377111.09.\n",
      "Low energy production period from hour 7549 to 7668. Total energy production: 5347773.75.\n",
      "Low energy production period from hour 7758 to 7877. Total energy production: 5396026.13.\n",
      "Low energy production period from hour 8155 to 8274. Total energy production: 5423160.81.\n"
     ]
    }
   ],
   "source": [
    "# Denne her kodeblok printer hver af de perioder med lav energy produktion og print derefter den samlede\n",
    "for period in low_periods:\n",
    "    energy_production = Sim_nodes.iloc[period[0]:min(period[0]+119, period[1])+1].sum().sum()\n",
    "    print(f\"Low energy production period from hour {period[0]} to {period[0]+119}. Total energy production: {energy_production:.2f}.\")"
   ]
  },
  {
   "cell_type": "code",
   "execution_count": 14,
   "id": "5613fa0b-070d-4b51-a1c2-987d0d309534",
   "metadata": {},
   "outputs": [],
   "source": [
    "# denne her kodeblok er et værktøj til at danne en ny dataframe som kun indeholder de efter spurgte områder\n",
    "# og det er isoleret kun til de perioder med lav energi\n",
    "# områderne inkluderet kan nemt ændre. enten slette eller tilføje nye\n",
    "cols_to_keep = Sim.filter(like='DK1').columns.tolist() + \\\n",
    "               Sim.filter(like='DK2').columns.tolist() + \\\n",
    "               Sim.filter(like='DKBO').columns.tolist() + \\\n",
    "               Sim.filter(like='DKKF').columns.tolist() + \\\n",
    "               Sim.filter(like='DKEI').columns.tolist() + \\\n",
    "               Sim.filter(like='NOn').columns.tolist() + \\\n",
    "               Sim.filter(like='NOm').columns.tolist() + \\\n",
    "               Sim.filter(like='NOs').columns.tolist() + \\\n",
    "               Sim.filter(like='SE1').columns.tolist() + \\\n",
    "               Sim.filter(like='SE2').columns.tolist() + \\\n",
    "               Sim.filter(like='SE3').columns.tolist() + \\\n",
    "               Sim.filter(like='SE4').columns.tolist() + \\\n",
    "               Sim.filter(like='DELU').columns.tolist()\n",
    "\n",
    "cols_to_keep = [*set(cols_to_keep)]\n",
    "# subset the dataframe to keep only the relevant columns\n",
    "Sim_subset = Sim[cols_to_keep]"
   ]
  },
  {
   "cell_type": "code",
   "execution_count": 15,
   "id": "cfcd7a46-6bf8-4d82-a9ec-939bf0c2d8c7",
   "metadata": {},
   "outputs": [],
   "source": [
    "# denne kodeblok danner så den nye dataframe som sagt kun indeholder de områder samt lav energi periode\n",
    "low_energy_rows_focus = pd.DataFrame()\n",
    "for period in low_periods:\n",
    "    low_energy_rows_focus = pd.concat([low_energy_rows_focus, Sim_subset.loc[period[0]:period[1]]])"
   ]
  },
  {
   "cell_type": "code",
   "execution_count": 16,
   "id": "53ccf409-ad67-4342-a6bc-bf3ce0fb9967",
   "metadata": {},
   "outputs": [],
   "source": [
    "#Fjerner dupliketter\n",
    "low_energy_rows_focus = low_energy_rows_focus.loc[:, ~low_energy_rows_focus.columns.duplicated()]"
   ]
  },
  {
   "cell_type": "code",
   "execution_count": 17,
   "id": "39e488ee-e123-4e87-81fe-7f9cc7376be9",
   "metadata": {},
   "outputs": [
    {
     "name": "stdout",
     "output_type": "stream",
     "text": [
      "period from hour 805 to 924. DK1_demand: 574212.14. DK1_Wind: 236073.76. DK1_Solar: 32503.64.\n",
      "period from hour 1290 to 1409. DK1_demand: 537636.99. DK1_Wind: 175411.37. DK1_Solar: 35886.47.\n",
      "period from hour 1492 to 1611. DK1_demand: 561673.75. DK1_Wind: 206540.34. DK1_Solar: 64439.68.\n",
      "period from hour 4088 to 4207. DK1_demand: 504148.00. DK1_Wind: 95938.46. DK1_Solar: 157396.86.\n",
      "period from hour 5425 to 5544. DK1_demand: 507431.32. DK1_Wind: 117048.57. DK1_Solar: 135782.78.\n",
      "period from hour 6334 to 6453. DK1_demand: 517971.68. DK1_Wind: 84055.95. DK1_Solar: 86808.01.\n",
      "period from hour 7149 to 7268. DK1_demand: 532065.57. DK1_Wind: 214784.25. DK1_Solar: 50778.20.\n",
      "period from hour 7549 to 7668. DK1_demand: 571019.49. DK1_Wind: 255679.01. DK1_Solar: 46160.15.\n",
      "period from hour 7758 to 7877. DK1_demand: 566440.23. DK1_Wind: 358921.79. DK1_Solar: 17435.99.\n",
      "period from hour 8155 to 8274. DK1_demand: 557218.61. DK1_Wind: 154158.36. DK1_Solar: 17432.19.\n"
     ]
    }
   ],
   "source": [
    "#Nu er der dannet en dataframe kun med lav energi perioder så kan jeg feks kigge på DK1s vind porduktion,\n",
    "#sol produktion og demand\n",
    "for period in low_periods:\n",
    "    print(f\"period from hour {period[0]} to {period[0]+119}. DK1_demand: {low_energy_rows_focus.loc[period[0]:period[0]+119, 'DK1_demand'].sum():.2f}. DK1_Wind: {low_energy_rows_focus.loc[period[0]:period[0]+119, 'DK1_Wind'].sum():.2f}. DK1_Solar: {low_energy_rows_focus.loc[period[0]:period[0]+119, 'DK1_Solar'].sum():.2f}.\")"
   ]
  },
  {
   "cell_type": "markdown",
   "id": "9f954419-bf64-439a-9c3f-26a5099a83a4",
   "metadata": {},
   "source": [
    "## Herefter kunne man lave nogle flere figurer eller udskrifter for at analysere lav energi perioderne"
   ]
  },
  {
   "cell_type": "code",
   "execution_count": 18,
   "id": "a4d4990b-3e4a-4f17-ae54-2168335e2d00",
   "metadata": {},
   "outputs": [],
   "source": [
    "# her gøres det samme men kun for holland, dette er fordi holland har så høj eksport (Havde ihvertfald)\n",
    "cols_to_keep_NL = Sim.filter(like='NL').columns.tolist()\n",
    "\n",
    "# subset the dataframe to keep only the relevant columns\n",
    "Sim_subset_NL = Sim[cols_to_keep_NL]"
   ]
  },
  {
   "cell_type": "code",
   "execution_count": 19,
   "id": "95633e9f-638e-4972-8bd9-78aeee60ed8e",
   "metadata": {},
   "outputs": [],
   "source": [
    "# danner den nye dataframe med fokus på holland og lav energi perioder\n",
    "low_energy_rows_NL = pd.DataFrame()\n",
    "for period in low_periods:\n",
    "    low_energy_rows_NL = pd.concat([low_energy_rows_NL, Sim_subset_NL.loc[period[0]:period[1]]])"
   ]
  },
  {
   "cell_type": "code",
   "execution_count": 20,
   "id": "be534953-db9d-4d99-a6a9-ffaa2e262c0a",
   "metadata": {},
   "outputs": [],
   "source": [
    "# For at undersøge eksporten og importen mellem holland og de områder der er fobundet oprettes to nye\n",
    "# kolonne i min holland fokuseret dataframe\n",
    "Sim_subset_NL_copy = Sim_subset_NL.copy()\n",
    "Sim_subset_NL_copy.loc[:, 'NL_export'] = ((Sim_subset_NL_copy[['NL_to_BE', 'NL_to_GB']].clip(lower=0).sum(axis=1)) - \n",
    "                                    (Sim_subset_NL_copy[['DK1_to_NL', 'NOs_to_NL', 'DELU_to_NL']].clip(upper=0).sum(axis=1)))\n",
    "Sim_subset_NL_copy.loc[:, 'NL_import'] = (-Sim_subset_NL_copy[['NL_to_BE', 'NL_to_GB']].clip(upper=0).sum(axis=1)\n",
    "                              + Sim_subset_NL_copy[['DK1_to_NL', 'NOs_to_NL', 'DELU_to_NL']].clip(lower=0).sum(axis=1))\n",
    "Sim_subset_NL=Sim_subset_NL_copy\n",
    "del Sim_subset_NL_copy"
   ]
  },
  {
   "cell_type": "code",
   "execution_count": 21,
   "id": "e8dbc411-2c16-475c-9c92-192fd484396d",
   "metadata": {},
   "outputs": [
    {
     "name": "stdout",
     "output_type": "stream",
     "text": [
      "Total NL export: 12877273.6138\n",
      "Total NL import: 3515032.471\n"
     ]
    }
   ],
   "source": [
    "# vil lige se om tallene passer\n",
    "print(f'Total NL export: {Sim_subset_NL[\"NL_export\"].sum()}')\n",
    "print(f'Total NL import: {Sim_subset_NL[\"NL_import\"].sum()}')"
   ]
  },
  {
   "cell_type": "markdown",
   "id": "7237d7e9-be1b-45b2-a0f1-bcf164216b01",
   "metadata": {},
   "source": [
    "Holland ekspoterer rigtig meget energi og impotere også en del. alligevel er deres EENS så høj. virker spøjst"
   ]
  },
  {
   "cell_type": "code",
   "execution_count": 22,
   "id": "bc2e673e-b93e-40fe-b77e-53f4eb6366fc",
   "metadata": {},
   "outputs": [],
   "source": [
    "#Her isolere jeg de tidspunkter hvor holland impotere energi. det er fra det gamle data da holland nærmest\n",
    "#impoterede ingenting\n",
    "Sim_subset_NL_import = Sim_subset_NL[Sim_subset_NL['NL_import'] > 0]"
   ]
  }
 ],
 "metadata": {
  "kernelspec": {
   "display_name": "Python 3 (ipykernel)",
   "language": "python",
   "name": "python3"
  },
  "language_info": {
   "codemirror_mode": {
    "name": "ipython",
    "version": 3
   },
   "file_extension": ".py",
   "mimetype": "text/x-python",
   "name": "python",
   "nbconvert_exporter": "python",
   "pygments_lexer": "ipython3",
   "version": "3.9.7"
  }
 },
 "nbformat": 4,
 "nbformat_minor": 5
}
