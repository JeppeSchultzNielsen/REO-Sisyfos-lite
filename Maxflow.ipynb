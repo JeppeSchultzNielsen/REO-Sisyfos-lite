{
 "cells": [
  {
   "cell_type": "code",
   "execution_count": 1,
   "metadata": {},
   "outputs": [],
   "source": [
    "import numpy as np\n",
    "import matplotlib.pyplot as plt\n",
    "from scipy.optimize import linprog\n",
    "from pulp import LpMaximize, LpProblem, LpStatus, lpSum, LpVariable, LpMinimize\n",
    "import time\n",
    "import random"
   ]
  },
  {
   "cell_type": "markdown",
   "metadata": {},
   "source": [
    "Løsning med inspiration fra https://frknklcsln.medium.com/a-maximum-flow-problem-solution-with-python-34dc3137a3b0 og beskrivelsen i Sisyfos5 modelguide. \n",
    "Jeg forestiller mig, at jeg har 7 nodes og 9 forbindelser. Hver node har en produktion og demand mellem 1 og 10."
   ]
  },
  {
   "cell_type": "code",
   "execution_count": 2,
   "metadata": {},
   "outputs": [],
   "source": [
    "demands = [random.randint(0,1), random.randint(0,5), random.randint(0,7), random.randint(0,6), random.randint(0,8), random.randint(0,3), random.randint(0,5)]\n",
    "capacities = [random.randint(0,10), random.randint(0,4), random.randint(0,2), random.randint(0,6), random.randint(0,6), random.randint(0,4), random.randint(0,2)]\n",
    "lines = [#a,b,max kapacitet a -> b, max kapacitet b -> a\n",
    "    [0,1,1, 2],\n",
    "    [0,2,2, 2],\n",
    "    [1,3,2,2.5],\n",
    "    [2,3,4,4],\n",
    "    [2,4,3,2],\n",
    "    [3,5,4,3],\n",
    "    [3,6,3,4],\n",
    "    [4,5,2,2],\n",
    "    [5,6,3,3]\n",
    "]\n"
   ]
  },
  {
   "cell_type": "markdown",
   "metadata": {},
   "source": [
    "Dette er et lineært optimeringsproblem, som beskrevet i Sisyfos modelguide. Hvis $x_i$ er produktionen i node i som er et tal mellem 0 og produktionskapaciteten $p_i$, $D_i$ er demand, så handler det om at minimere den samlede EENS i alle nodes, som kan defineres som $EENS = \\sum_i(D_i-x_i-\\sum_j F_{ji})$ hvor $\\sum_j F_{ji}$ er det samlede flow ind og ud af noden - dvs F_{ji} er flow fra den j'te til den i'te node, et tal som er mellem -$C_{ij}$ (kapaciteten fra i til j) og kapaciteten fra j til i, $C_{ji}$. Problemet defineres derfor matematisk som: \\\n",
    "Minimering af \\\n",
    "$\\sum_i(D_i-x_i-\\sum_j F_{ji})$ \\\n",
    "Under betingelserne \\\n",
    "$0 \\leq x_i \\leq p_i$ production less than capacity \\\n",
    "$-C_{ij} \\leq F_{ji} \\leq C_{ji}$ flow within capacity limits \\\n",
    "$x_i + \\sum_j F_{ji} \\leq D_i$ Production and net flow less than demand \\\n",
    "\\\n",
    "Siden det totale flow summerer 0 (fordi der for hver node, der modtager F, er en node der afsender F, og demand ikke varierer under variation af parametrene, er minimeringsbetingelsen ækvivalent til betingelsen minimering af $-\\sum_i x_i$ eller maximering af $\\sum_i x_i$. Dette lineære optimeringsproblem kan løses computationelt. \\\n",
    "Jeg følger guiden her: https://realpython.com/linear-programming-python. pulp-biblioteket er ideelt til dette."
   ]
  },
  {
   "cell_type": "code",
   "execution_count": 3,
   "metadata": {},
   "outputs": [
    {
     "name": "stdout",
     "output_type": "stream",
     "text": [
      "--- 0.05099916458129883 seconds ---\n"
     ]
    }
   ],
   "source": [
    "start_time = time.time()\n",
    "#initilaize vectors to store variables\n",
    "x_vec = []\n",
    "F_vec = []\n",
    "\n",
    "for i in demands:\n",
    "    x_vec.append(0)\n",
    "for i in lines:\n",
    "    F_vec.append(0)\n",
    "    \n",
    "for i in range(len(demands)):\n",
    "    x_vec[i] = LpVariable(name=\"x\"+str(i), lowBound=0, upBound = capacities[i])\n",
    "    \n",
    "for i in range(len(lines)):\n",
    "    F_vec[i] = LpVariable(name=\"F\"+str(i), lowBound=-lines[i][3], upBound = lines[i][2])\n",
    "    \n",
    "#create model\n",
    "model = LpProblem(name=\"maxFlow\", sense=LpMaximize)\n",
    "\n",
    "#create objective for model\n",
    "obj_func = sum(x_vec)\n",
    "model += obj_func\n",
    "\n",
    "#constraints on flow and production were made in their initializations. Make constraints on production and net flows being\n",
    "#less than demand.\n",
    "for i in range(len(demands)):\n",
    "    build = x_vec[i]\n",
    "    #find lines relevant to this node. If they are in index 0, they represent flow out, if they are in index 1, they\n",
    "    #represent flow in.\n",
    "    for j in range(len(lines)):\n",
    "        if(lines[j][0] == i):\n",
    "            build -= F_vec[j]\n",
    "        if(lines[j][1] == i):\n",
    "            build += F_vec[j]\n",
    "    model += (build <= demands[i], \"constraint_demand\" + str(i))\n",
    "    \n",
    "status = model.solve()\n",
    "print(\"--- %s seconds ---\" % (time.time() - start_time))"
   ]
  },
  {
   "cell_type": "code",
   "execution_count": 4,
   "metadata": {},
   "outputs": [
    {
     "data": {
      "text/plain": [
       "maxFlow:\n",
       "MAXIMIZE\n",
       "1*x0 + 1*x1 + 1*x2 + 1*x3 + 1*x4 + 1*x5 + 1*x6 + 0\n",
       "SUBJECT TO\n",
       "constraint_demand0: - F0 - F1 + x0 <= 0\n",
       "\n",
       "constraint_demand1: F0 - F2 + x1 <= 5\n",
       "\n",
       "constraint_demand2: F1 - F3 - F4 + x2 <= 3\n",
       "\n",
       "constraint_demand3: F2 + F3 - F5 - F6 + x3 <= 1\n",
       "\n",
       "constraint_demand4: F4 - F7 + x4 <= 1\n",
       "\n",
       "constraint_demand5: F5 + F7 - F8 + x5 <= 1\n",
       "\n",
       "constraint_demand6: F6 + F8 + x6 <= 0\n",
       "\n",
       "VARIABLES\n",
       "-2 <= F0 <= 1 Continuous\n",
       "-2 <= F1 <= 2 Continuous\n",
       "-2.5 <= F2 <= 2 Continuous\n",
       "-4 <= F3 <= 4 Continuous\n",
       "-2 <= F4 <= 3 Continuous\n",
       "-3 <= F5 <= 4 Continuous\n",
       "-4 <= F6 <= 3 Continuous\n",
       "-2 <= F7 <= 2 Continuous\n",
       "-3 <= F8 <= 3 Continuous\n",
       "x0 <= 3 Continuous\n",
       "x1 = 0 Continuous\n",
       "x2 = 0 Continuous\n",
       "x3 <= 4 Continuous\n",
       "x4 <= 6 Continuous\n",
       "x5 <= 1 Continuous\n",
       "x6 = 0 Continuous"
      ]
     },
     "execution_count": 4,
     "metadata": {},
     "output_type": "execute_result"
    }
   ],
   "source": [
    "#print model parameters\n",
    "model"
   ]
  },
  {
   "cell_type": "code",
   "execution_count": 5,
   "metadata": {},
   "outputs": [
    {
     "name": "stdout",
     "output_type": "stream",
     "text": [
      "--- 0.0 seconds ---\n"
     ]
    }
   ],
   "source": [
    "#gennemsnitlig beregningstid\n",
    "total = 0\n",
    "\"\"\"\n",
    "for i in range(1000):\n",
    "    start_time = time.time()\n",
    "    status = model.solve()\n",
    "    total += time.time() - start_time\n",
    "\"\"\"\n",
    "print(\"--- %s seconds ---\" % (total/1000))"
   ]
  },
  {
   "cell_type": "code",
   "execution_count": 6,
   "metadata": {},
   "outputs": [
    {
     "name": "stdout",
     "output_type": "stream",
     "text": [
      "F0: 1.0\n",
      "F1: 2.0\n",
      "F2: -2.5\n",
      "F3: 1.0\n",
      "F4: -2.0\n",
      "F5: -1.5\n",
      "F6: 3.0\n",
      "F7: -1.5\n",
      "F8: -3.0\n",
      "x0: 3.0\n",
      "x1: 0.0\n",
      "x2: 0.0\n",
      "x3: 4.0\n",
      "x4: 1.5\n",
      "x5: 1.0\n",
      "x6: 0.0\n"
     ]
    }
   ],
   "source": [
    "for var in model.variables():\n",
    "    print(f\"{var.name}: {var.value()}\")"
   ]
  },
  {
   "cell_type": "code",
   "execution_count": 7,
   "metadata": {},
   "outputs": [
    {
     "name": "stdout",
     "output_type": "stream",
     "text": [
      "Node 0 har demand 0.\n",
      "Node 0 producerer selv 3.0.\n",
      "Node 0 modtager fra node 1 -1.0.\n",
      "Node 0 modtager fra node 2 -2.0.\n",
      "Node 0 har EENS 0.0.\n",
      "Node 1 har demand 5.\n",
      "Node 1 producerer selv 0.0.\n",
      "Node 1 modtager fra node 0 1.0.\n",
      "Node 1 modtager fra node 3 2.5.\n",
      "Node 1 har EENS 1.5.\n",
      "Node 2 har demand 3.\n",
      "Node 2 producerer selv 0.0.\n",
      "Node 2 modtager fra node 0 2.0.\n",
      "Node 2 modtager fra node 3 -1.0.\n",
      "Node 2 modtager fra node 4 2.0.\n",
      "Node 2 har EENS 0.0.\n",
      "Node 3 har demand 1.\n",
      "Node 3 producerer selv 4.0.\n",
      "Node 3 modtager fra node 1 -2.5.\n",
      "Node 3 modtager fra node 2 1.0.\n",
      "Node 3 modtager fra node 5 1.5.\n",
      "Node 3 modtager fra node 6 -3.0.\n",
      "Node 3 har EENS 0.0.\n",
      "Node 4 har demand 1.\n",
      "Node 4 producerer selv 1.5.\n",
      "Node 4 modtager fra node 2 -2.0.\n",
      "Node 4 modtager fra node 5 1.5.\n",
      "Node 4 har EENS 0.0.\n",
      "Node 5 har demand 1.\n",
      "Node 5 producerer selv 1.0.\n",
      "Node 5 modtager fra node 3 -1.5.\n",
      "Node 5 modtager fra node 4 -1.5.\n",
      "Node 5 modtager fra node 6 3.0.\n",
      "Node 5 har EENS 0.0.\n",
      "Node 6 har demand 0.\n",
      "Node 6 producerer selv 0.0.\n",
      "Node 6 modtager fra node 3 3.0.\n",
      "Node 6 modtager fra node 5 -3.0.\n",
      "Node 6 har EENS 0.0.\n",
      "1.5\n"
     ]
    }
   ],
   "source": [
    "#Hvad er EENS?\n",
    "totalEENS = 0\n",
    "for i in range(len(demands)):\n",
    "    print(\"Node \" + str(i) + \" har demand \" + str(demands[i]) + \".\")\n",
    "    print(\"Node \" + str(i) + \" producerer selv \" + str(model.variables()[9+i].value()) + \".\")\n",
    "    EENS = demands[i]\n",
    "    EENS -= model.variables()[9+i].value()\n",
    "    for j in range(len(lines)):\n",
    "        if(lines[j][0] == i):\n",
    "            print(\"Node \" + str(i) + \" modtager fra \" + \"node \" + str(lines[j][1]) +\" \" + str(-model.variables()[j].value()) + \".\")\n",
    "            EENS += model.variables()[j].value()\n",
    "        if(lines[j][1] == i):\n",
    "            print(\"Node \" + str(i) + \" modtager fra \" + \"node \" + str(lines[j][0])+\" \" + str(model.variables()[j].value()) + \".\")\n",
    "            EENS -= model.variables()[j].value()\n",
    "    print(\"Node \" + str(i) + \" har EENS \" + str(EENS) + \".\")\n",
    "    totalEENS += EENS\n",
    "print(totalEENS)"
   ]
  },
  {
   "cell_type": "markdown",
   "metadata": {},
   "source": [
    "Sisyfos modelguide hævder at problemet kan løses hurtigere ved at reformulere det som et maxflow problem. I det tilfælde deler de nodes op i nodes med overskudskapacitet og nodes med underskudskapacitet, så \\\n",
    "S = nodes med overskud \\\n",
    "T = nodes med underskud \\\n",
    "De postulerer at når flowet er maksimalt, så er EENS minimal. Jeg er ikke sikker på at jeg forstår at dette nødvendigvis gælder, men det virker intuitiv.\n",
    "Formuleringen bliver: \\\n",
    "Maksimering af \\\n",
    "$\\sum_{j \\in T} \\sum_i F_{ij}$ flow ind i nodes med underskud \\\n",
    "Under betingelser \\\n",
    "$\\sum_j F_{ij} \\leq P_i - D_i \\forall i \\in S$ nettoflow ud af nodes med overskud er ikke større end deres overskud \\\n",
    "$-C_{ij} \\leq F_{ji} \\leq C_{ji}$ flow within capacity limits \\\n",
    "$\\sum_j F_{ij} \\leq D_i - P_i \\forall i \\in T$ nettoflow ind i nodes med underskud er ikke større end deres underskud \\\n",
    "De slipper derfor at optimere på produktionsparametrene. Det gør måske modellen lidt hurtigere?"
   ]
  },
  {
   "cell_type": "code",
   "execution_count": 8,
   "metadata": {},
   "outputs": [
    {
     "data": {
      "text/plain": [
       "maxFlow:\n",
       "MAXIMIZE\n",
       "1*F0 + 1*F1 + -1*F2 + -1*F3 + -1*F4 + 0\n",
       "SUBJECT TO\n",
       "constraint_demand0: F0 + F1 <= 3\n",
       "\n",
       "constraint_demand1: F0 - F2 <= 5\n",
       "\n",
       "constraint_demand2: F1 - F3 - F4 <= 3\n",
       "\n",
       "constraint_demand3: - F2 - F3 + F5 + F6 <= 3\n",
       "\n",
       "constraint_demand4: - F4 + F7 <= 5\n",
       "\n",
       "constraint_demand5: - F5 - F7 + F8 <= 0\n",
       "\n",
       "constraint_demand6: - F6 - F8 <= 0\n",
       "\n",
       "VARIABLES\n",
       "-2 <= F0 <= 1 Continuous\n",
       "-2 <= F1 <= 2 Continuous\n",
       "-2.5 <= F2 <= 2 Continuous\n",
       "-4 <= F3 <= 4 Continuous\n",
       "-2 <= F4 <= 3 Continuous\n",
       "-3 <= F5 <= 4 Continuous\n",
       "-4 <= F6 <= 3 Continuous\n",
       "-2 <= F7 <= 2 Continuous\n",
       "-3 <= F8 <= 3 Continuous"
      ]
     },
     "execution_count": 8,
     "metadata": {},
     "output_type": "execute_result"
    }
   ],
   "source": [
    "#initilaize vectors to store variables\n",
    "F_vec = []\n",
    "\n",
    "for i in lines:\n",
    "    F_vec.append(0)\n",
    "    \n",
    "for i in range(len(lines)):\n",
    "    F_vec[i] = LpVariable(name=\"F\"+str(i), lowBound=-lines[i][3], upBound = lines[i][2])\n",
    "    \n",
    "#create model\n",
    "model2 = LpProblem(name=\"maxFlow\", sense=LpMaximize)\n",
    "\n",
    "obj_func = 0\n",
    "\n",
    "#find demand and production in each node. \n",
    "for i in range(len(demands)):\n",
    "    hasSurplus = True\n",
    "    surplus = capacities[i] - demands[i]\n",
    "    if(surplus < 0):\n",
    "        hasSurplus = False\n",
    "    build = 0\n",
    "    #find lines relevant to this node. If they are in index 0, they represent flow out, if they are in index 1, they\n",
    "    #represent flow in.\n",
    "    for j in range(len(lines)):\n",
    "        if(lines[j][0] == i):\n",
    "            build -= F_vec[j]\n",
    "            if(not hasSurplus):\n",
    "                obj_func -= F_vec[j]\n",
    "        if(lines[j][1] == i):\n",
    "            build += F_vec[j]\n",
    "            if(not hasSurplus):\n",
    "                obj_func += F_vec[j]\n",
    "    if(hasSurplus):\n",
    "        model2 += (-build <= surplus, \"constraint_demand\" + str(i))\n",
    "    else:\n",
    "        model2 += (build <= -surplus, \"constraint_demand\" + str(i))\n",
    "    \n",
    "#create objective for model\n",
    "model2 += obj_func\n",
    "model2"
   ]
  },
  {
   "cell_type": "code",
   "execution_count": 9,
   "metadata": {},
   "outputs": [],
   "source": [
    "status = model2.solve()"
   ]
  },
  {
   "cell_type": "code",
   "execution_count": 10,
   "metadata": {},
   "outputs": [
    {
     "name": "stdout",
     "output_type": "stream",
     "text": [
      "F0: 1.0\n",
      "F1: 2.0\n",
      "F2: -2.5\n",
      "F3: 1.0\n",
      "F4: -2.0\n",
      "F5: -1.5\n",
      "F6: 3.0\n",
      "F7: -1.5\n",
      "F8: -3.0\n"
     ]
    }
   ],
   "source": [
    "for var in model2.variables():\n",
    "    print(f\"{var.name}: {var.value()}\")"
   ]
  },
  {
   "cell_type": "code",
   "execution_count": 11,
   "metadata": {},
   "outputs": [
    {
     "name": "stdout",
     "output_type": "stream",
     "text": [
      "Node 0 har demand 0.\n",
      "Node 0 producerer selv 3.\n",
      "Node 0 modtager fra node 1 -1.0.\n",
      "Node 0 modtager fra node 2 -2.0.\n",
      "Node 0 har EENS 0.\n",
      "Node 1 har demand 5.\n",
      "Node 1 producerer selv 0.\n",
      "Node 1 modtager fra node 0 1.0.\n",
      "Node 1 modtager fra node 3 2.5.\n",
      "Node 1 har EENS 1.5.\n",
      "Node 2 har demand 3.\n",
      "Node 2 producerer selv 0.\n",
      "Node 2 modtager fra node 0 2.0.\n",
      "Node 2 modtager fra node 3 -1.0.\n",
      "Node 2 modtager fra node 4 2.0.\n",
      "Node 2 har EENS 0.0.\n",
      "Node 3 har demand 1.\n",
      "Node 3 producerer selv 4.\n",
      "Node 3 modtager fra node 1 -2.5.\n",
      "Node 3 modtager fra node 2 1.0.\n",
      "Node 3 modtager fra node 5 1.5.\n",
      "Node 3 modtager fra node 6 -3.0.\n",
      "Node 3 har EENS 0.\n",
      "Node 4 har demand 1.\n",
      "Node 4 producerer selv 6.\n",
      "Node 4 modtager fra node 2 -2.0.\n",
      "Node 4 modtager fra node 5 1.5.\n",
      "Node 4 har EENS 0.\n",
      "Node 5 har demand 1.\n",
      "Node 5 producerer selv 1.\n",
      "Node 5 modtager fra node 3 -1.5.\n",
      "Node 5 modtager fra node 4 -1.5.\n",
      "Node 5 modtager fra node 6 3.0.\n",
      "Node 5 har EENS 0.\n",
      "Node 6 har demand 0.\n",
      "Node 6 producerer selv 0.\n",
      "Node 6 modtager fra node 3 3.0.\n",
      "Node 6 modtager fra node 5 -3.0.\n",
      "Node 6 har EENS 0.\n",
      "1.5\n"
     ]
    }
   ],
   "source": [
    "#Hvad er EENS?\n",
    "totalEENS = 0\n",
    "for i in range(len(demands)):\n",
    "    print(\"Node \" + str(i) + \" har demand \" + str(demands[i]) + \".\")\n",
    "    print(\"Node \" + str(i) + \" producerer selv \" + str(capacities[i]) + \".\")\n",
    "    EENS = demands[i] - capacities[i]\n",
    "    for j in range(len(lines)):\n",
    "        if(lines[j][0] == i):\n",
    "            print(\"Node \" + str(i) + \" modtager fra \" + \"node \" + str(lines[j][1]) +\" \" + str(-model2.variables()[j].value()) + \".\")\n",
    "            EENS += model2.variables()[j].value()\n",
    "        if(lines[j][1] == i):\n",
    "            print(\"Node \" + str(i) + \" modtager fra \" + \"node \" + str(lines[j][0])+\" \" + str(model2.variables()[j].value()) + \".\")\n",
    "            EENS -= model2.variables()[j].value()\n",
    "    if(demands[i] > capacities[i]):\n",
    "        print(\"Node \" + str(i) + \" har EENS \" + str(EENS) + \".\")\n",
    "        totalEENS += EENS\n",
    "    else:\n",
    "        print(\"Node \" + str(i) + \" har EENS \" + str(0) + \".\")\n",
    "print(totalEENS)"
   ]
  },
  {
   "cell_type": "code",
   "execution_count": 12,
   "metadata": {},
   "outputs": [
    {
     "data": {
      "text/plain": [
       "'\\nfor i in range(1000):\\n    start_time = time.time()\\n    status = model2.solve()\\n    total += time.time() - start_time\\nprint(\"--- %s seconds ---\" % (total/1000))\\n'"
      ]
     },
     "execution_count": 12,
     "metadata": {},
     "output_type": "execute_result"
    }
   ],
   "source": [
    "#gennemsnitlig beregningstid\n",
    "total = 0\n",
    "\"\"\"\n",
    "for i in range(1000):\n",
    "    start_time = time.time()\n",
    "    status = model2.solve()\n",
    "    total += time.time() - start_time\n",
    "print(\"--- %s seconds ---\" % (total/1000))\n",
    "\"\"\""
   ]
  },
  {
   "cell_type": "code",
   "execution_count": null,
   "metadata": {},
   "outputs": [],
   "source": []
  }
 ],
 "metadata": {
  "kernelspec": {
   "display_name": "Python 3.9.13 ('base')",
   "language": "python",
   "name": "python3"
  },
  "language_info": {
   "codemirror_mode": {
    "name": "ipython",
    "version": 3
   },
   "file_extension": ".py",
   "mimetype": "text/x-python",
   "name": "python",
   "nbconvert_exporter": "python",
   "pygments_lexer": "ipython3",
   "version": "3.9.13 (main, Aug 25 2022, 23:51:50) [MSC v.1916 64 bit (AMD64)]"
  },
  "vscode": {
   "interpreter": {
    "hash": "ceac14638320bc7d5b93a270b43bb2d691c5ebafc42a20c68318079496c95b7c"
   }
  }
 },
 "nbformat": 4,
 "nbformat_minor": 2
}
