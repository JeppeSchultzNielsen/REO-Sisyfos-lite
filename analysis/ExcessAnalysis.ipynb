{
 "cells": [
  {
   "cell_type": "code",
   "execution_count": null,
   "metadata": {},
   "outputs": [],
   "source": [
    "import numpy as np\n",
    "from Averager import Averager\n",
    "from ResultsFile import ResultsFile\n",
    "\n",
    "import matplotlib.pyplot as plt"
   ]
  },
  {
   "cell_type": "code",
   "execution_count": null,
   "metadata": {},
   "outputs": [],
   "source": [
    "'''\n",
    "#this snippet creates some averaged files \n",
    "for i in [1985,1987,1996,2007,2008,2009,2010,2011,2012,2013,2014,2015]:\n",
    "    filePaths = []\n",
    "    filePaths2 = []\n",
    "    filePaths3 = []\n",
    "    filePaths4 = []\n",
    "    for j in range(5):\n",
    "        filePaths.append(f\"../results/2035_{i}_{j}_pp.txt\")\n",
    "        filePaths2.append(f\"../results/2035_{i}_{j}_nuPrio_pp.txt\")        \n",
    "        filePaths3.append(f\"../results/2035_{i}_{j}.txt\")\n",
    "        filePaths4.append(f\"../results/2035_{i}_{j}_nuPrio.txt\")\n",
    "    Averager.Average(filePaths,f\"../results/averaged/nonNuPrio2035_{i}_pp.txt\")\n",
    "    Averager.Average(filePaths2,f\"../results/averaged/NuPrio2035_{i}_pp.txt\")\n",
    "    Averager.Average(filePaths3,f\"../results/averaged/nonNuPrio2035_{i}.txt\")\n",
    "    Averager.Average(filePaths4,f\"../results/averaged/NuPrio2035_{i}.txt\")\n",
    "    '''"
   ]
  },
  {
   "cell_type": "code",
   "execution_count": null,
   "metadata": {},
   "outputs": [],
   "source": [
    "res = ResultsFile(\"../results/averaged/NuPrio2035_2009.txt\")\n",
    "respp = ResultsFile(\"../results/averaged/NuPrio2035_2009_pp.txt\")\n",
    "keywords = [\"Solar\",\"Wind\",\"ROR\",\"MustRun\",\"ICHP\",\"Nuclear\",\"NuclearSweden\",\"NuclearFinland\",\"Kernekraft_DE\",\"Borssele\",\"NuclearGB\",\"NuclearFR\",\"NuclearBE\",\"NuclearES\",\"NuclearCH\",\"NuclearCZSK\",\"NuclearHU\",\"nuclear\",\"Nuclear\"]\n",
    "'''\n",
    "Hvad skal der ske?\n",
    "Jeg vil gerne undersøge overskudsproduktion i Danmark. Jeg kan starte med at kigge på hyppigheden af det.\n",
    "Det må være varsurplus minus netimport, der tilsammen giver overskudsproduktion. \n",
    "'''"
   ]
  },
  {
   "cell_type": "code",
   "execution_count": null,
   "metadata": {},
   "outputs": [],
   "source": []
  },
  {
   "cell_type": "code",
   "execution_count": null,
   "metadata": {},
   "outputs": [],
   "source": []
  }
 ],
 "metadata": {
  "kernelspec": {
   "display_name": "base",
   "language": "python",
   "name": "python3"
  },
  "language_info": {
   "codemirror_mode": {
    "name": "ipython",
    "version": 3
   },
   "file_extension": ".py",
   "mimetype": "text/x-python",
   "name": "python",
   "nbconvert_exporter": "python",
   "pygments_lexer": "ipython3",
   "version": "3.9.13"
  },
  "orig_nbformat": 4
 },
 "nbformat": 4,
 "nbformat_minor": 2
}
