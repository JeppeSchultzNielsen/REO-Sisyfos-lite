{
 "cells": [
  {
   "cell_type": "code",
   "execution_count": 2,
   "metadata": {},
   "outputs": [],
   "source": [
    "import numpy as np \n",
    "import matplotlib.pyplot as plt"
   ]
  },
  {
   "cell_type": "code",
   "execution_count": null,
   "metadata": {},
   "outputs": [
    {
     "data": {
      "text/plain": [
       "2"
      ]
     },
     "execution_count": 31,
     "metadata": {},
     "output_type": "execute_result"
    }
   ],
   "source": [
    "1+1"
   ]
  },
  {
   "cell_type": "code",
   "execution_count": 18,
   "metadata": {},
   "outputs": [],
   "source": [
    "#create average of all samples.\n",
    "data = []\n",
    "splitted = 0\n",
    "for i in range(5):\n",
    "    f = open(\"2035_\"+str(i)+\".txt\",\"r\") \n",
    "    header = f.readline()\n",
    "    splitted = header.split()\n",
    "    data.append(np.transpose(np.loadtxt(\"2035_\"+str(i)+\".txt\", skiprows = 1)))\n",
    "\n",
    "avgdata = np.zeros(data[0].shape)"
   ]
  },
  {
   "cell_type": "code",
   "execution_count": 19,
   "metadata": {},
   "outputs": [],
   "source": [
    "for i in range(5):\n",
    "    avgdata += data[i]\n",
    "\n",
    "avgdata = avgdata/5"
   ]
  },
  {
   "cell_type": "code",
   "execution_count": 6,
   "metadata": {},
   "outputs": [],
   "source": [
    "#write the average into file \n",
    "with open(\"avgdata.txt\", \"w\") as txt_file:\n",
    "    txt_file.write(header)\n",
    "    for line in avgdata:\n",
    "        towrite = \"\"\n",
    "        for pos in line:\n",
    "            towrite += str(pos)+\"\\t\"\n",
    "        txt_file.write(towrite + \"\\n\") # works with any number of elements in a line"
   ]
  },
  {
   "cell_type": "code",
   "execution_count": 11,
   "metadata": {},
   "outputs": [
    {
     "data": {
      "text/plain": [
       "1698.8763270780598"
      ]
     },
     "execution_count": 11,
     "metadata": {},
     "output_type": "execute_result"
    }
   ],
   "source": [
    "f = open(\"test2030_1.txt\",\"r\") \n",
    "header = f.readline()\n",
    "splitted = header.split()\n",
    "avgdata = np.transpose(np.loadtxt(\"test.txt\", skiprows = 1))\n",
    "#calculate afbrudsminutter\n",
    "EENS_index = splitted.index(\"DK2_EENS\")\n",
    "demand_index = splitted.index(\"DK2_demand\")\n",
    "afbrudsminutter = 0\n",
    "sumLost = 0\n",
    "for i in range(len(avgdata[EENS_index])):\n",
    "    afbrudsminutter += avgdata[EENS_index][i]/avgdata[demand_index][i]*60\n",
    "    sumLost += avgdata[EENS_index][i]\n",
    "afbrudsminutter"
   ]
  },
  {
   "cell_type": "code",
   "execution_count": 12,
   "metadata": {},
   "outputs": [
    {
     "data": {
      "text/plain": [
       "75711.57100000001"
      ]
     },
     "execution_count": 12,
     "metadata": {},
     "output_type": "execute_result"
    }
   ],
   "source": [
    "sumLost"
   ]
  },
  {
   "cell_type": "code",
   "execution_count": null,
   "metadata": {},
   "outputs": [],
   "source": []
  }
 ],
 "metadata": {
  "kernelspec": {
   "display_name": "base",
   "language": "python",
   "name": "python3"
  },
  "language_info": {
   "codemirror_mode": {
    "name": "ipython",
    "version": 3
   },
   "file_extension": ".py",
   "mimetype": "text/x-python",
   "name": "python",
   "nbconvert_exporter": "python",
   "pygments_lexer": "ipython3",
   "version": "3.9.13"
  },
  "orig_nbformat": 4
 },
 "nbformat": 4,
 "nbformat_minor": 2
}
