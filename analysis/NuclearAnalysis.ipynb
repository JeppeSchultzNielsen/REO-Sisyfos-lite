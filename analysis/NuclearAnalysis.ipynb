{
 "cells": [
  {
   "cell_type": "code",
   "execution_count": 1,
   "metadata": {},
   "outputs": [],
   "source": [
    "import numpy as np\n",
    "from Averager import Averager\n",
    "import matplotlib.pyplot as plt"
   ]
  },
  {
   "cell_type": "code",
   "execution_count": 2,
   "metadata": {},
   "outputs": [
    {
     "name": "stdout",
     "output_type": "stream",
     "text": [
      "Averager: reading ../results/2035_1985_0_pp.txt\n",
      "Averager: reading ../results/2035_1985_1_pp.txt\n",
      "Averager: reading ../results/2035_1985_2_pp.txt\n",
      "Averager: reading ../results/2035_1985_3_pp.txt\n",
      "Averager: reading ../results/2035_1985_4_pp.txt\n",
      "Averager: saving output to../results/averaged/nonNuclearPrio2035.txt\n"
     ]
    }
   ],
   "source": [
    "filePaths = []\n",
    "for i in [1985]:#,1987,1996,2007,2008,2009,2010,2011,2012,2013,2014,2015]:\n",
    "    for j in range(5):\n",
    "        filePaths.append(f\"../results/2035_{i}_{j}_pp.txt\")\n",
    "Averager.Average(filePaths,\"../results/averaged/nonNuclearPrio2035.txt\")"
   ]
  },
  {
   "cell_type": "code",
   "execution_count": null,
   "metadata": {},
   "outputs": [],
   "source": []
  }
 ],
 "metadata": {
  "kernelspec": {
   "display_name": "base",
   "language": "python",
   "name": "python3"
  },
  "language_info": {
   "codemirror_mode": {
    "name": "ipython",
    "version": 3
   },
   "file_extension": ".py",
   "mimetype": "text/x-python",
   "name": "python",
   "nbconvert_exporter": "python",
   "pygments_lexer": "ipython3",
   "version": "3.9.13"
  },
  "orig_nbformat": 4
 },
 "nbformat": 4,
 "nbformat_minor": 2
}
