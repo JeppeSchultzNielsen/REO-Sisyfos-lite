{
 "cells": [
  {
   "cell_type": "code",
   "execution_count": 1,
   "metadata": {},
   "outputs": [],
   "source": [
    "import numpy as np \n",
    "import matplotlib.pyplot as plt\n",
    "from ResultsFile import ResultsFile"
   ]
  },
  {
   "cell_type": "code",
   "execution_count": 2,
   "metadata": {},
   "outputs": [],
   "source": [
    "res85var = []\n",
    "res85noVar = []\n",
    "res09var = []\n",
    "res09noVar = []\n",
    "\n",
    "for i in range(10):\n",
    "    res85var.append(ResultsFile(\"../results/2035_1985_var_\"+str([i])+\".txt\"))\n",
    "    res85noVar.append(ResultsFile(\"../results/2035_1985_noVar_\"+str([i])+\".txt\"))\n",
    "    res09var.append(ResultsFile(\"../results/2035_2009_var_\"+str([i])+\".txt\"))\n",
    "    res09noVar.append(ResultsFile(\"../results/2035_2009_noVar_\"+str([i])+\".txt\"))"
   ]
  },
  {
   "cell_type": "code",
   "execution_count": 22,
   "metadata": {},
   "outputs": [],
   "source": [
    "DK1EENS85var = []\n",
    "DK1EENS85noVar = []\n",
    "DK1EENS09var = []\n",
    "DK1EENS09noVar = []\n",
    "DK2EENS85var = []\n",
    "DK2EENS85noVar = []\n",
    "DK2EENS09var = []\n",
    "DK2EENS09noVar = []\n",
    "xs = []\n",
    "\n",
    "for i in range(len(res85var)):\n",
    "    DK1EENS85var.append( sum(res85var[i].getColumn(\"DK1_EENS\")))\n",
    "    DK1EENS85noVar.append(sum(res85noVar[i].getColumn(\"DK1_EENS\")))\n",
    "    DK1EENS09var.append(sum(res09var[i].getColumn(\"DK1_EENS\")))\n",
    "    DK1EENS09noVar.append(sum(res09noVar[i].getColumn(\"DK1_EENS\")))\n",
    "    DK2EENS85var.append(sum(res85var[i].getColumn(\"DK2_EENS\")))\n",
    "    DK2EENS85noVar.append(sum(res85noVar[i].getColumn(\"DK2_EENS\")))\n",
    "    DK2EENS09var.append(sum(res09var[i].getColumn(\"DK2_EENS\")))\n",
    "    DK2EENS09noVar.append(sum(res09noVar[i].getColumn(\"DK2_EENS\")))\n",
    "    xs.append(i)\n",
    "\n",
    "EENSscens = [DK1EENS85var,DK1EENS85noVar,DK1EENS09var,DK1EENS09noVar,DK2EENS85var,DK2EENS85noVar,DK2EENS09var,DK2EENS09noVar]\n",
    "names = [\"DK1EENS85var\",\"DK1EENS85noVar\",\"DK1EENS09var\",\"DK1EENS09noVar\",\"DK2EENS85var\",\"DK2EENS85noVar\",\"DK2EENS09var\",\"DK2EENS09noVar\"]"
   ]
  },
  {
   "attachments": {},
   "cell_type": "markdown",
   "metadata": {},
   "source": [
    "Det ser ud til at der er meget stor variation mellem simuleringerne; stokastisk udetid må derfor have meget stor effekt. F.eks. er EENS i DK2 for 10 simuleringer af 2035 i klimaåret 2009 med en udetidsplan, der tager højde for udetid:"
   ]
  },
  {
   "cell_type": "code",
   "execution_count": 26,
   "metadata": {},
   "outputs": [
    {
     "data": {
      "text/plain": [
       "[44162.40099999997,\n",
       " 39014.61100000001,\n",
       " 26002.481000000007,\n",
       " 49775.322999999924,\n",
       " 31164.380000000012,\n",
       " 33382.537000000004,\n",
       " 31979.35300000001,\n",
       " 71874.49500000001,\n",
       " 29596.414000000008,\n",
       " 31406.03500000001]"
      ]
     },
     "execution_count": 26,
     "metadata": {},
     "output_type": "execute_result"
    }
   ],
   "source": [
    "DK2EENS09var"
   ]
  },
  {
   "attachments": {},
   "cell_type": "markdown",
   "metadata": {},
   "source": [
    "Det ser ikke ud til at hverken udetidsplanerne eller klimaåret har kæmpe indflydelse på resultaterne:"
   ]
  },
  {
   "cell_type": "code",
   "execution_count": 25,
   "metadata": {},
   "outputs": [
    {
     "name": "stdout",
     "output_type": "stream",
     "text": [
      "DK1EENS85var: 3377.541600000005+-2441.4530805320223\n",
      "DK1EENS85noVar: 3883.9046000000208+-3571.990995585488\n",
      "DK1EENS09var: 3067.1142999999997+-2561.0420439414233\n",
      "DK1EENS09noVar: 2339.06660000001+-1811.4585771729635\n",
      "DK2EENS85var: 20334.720900000008+-4668.338328425918\n",
      "DK2EENS85noVar: 23515.840300000007+-7679.771765520278\n",
      "DK2EENS09var: 38835.803+-12963.389017354775\n",
      "DK2EENS09noVar: 21758.643700000008+-4793.709405276878\n"
     ]
    }
   ],
   "source": [
    "for i in range(len(EENSscens)):\n",
    "    print(f\"{names[i]}: {np.mean(EENSscens[i])}+-{np.std(EENSscens[i])}\")"
   ]
  },
  {
   "cell_type": "code",
   "execution_count": null,
   "metadata": {},
   "outputs": [],
   "source": []
  }
 ],
 "metadata": {
  "kernelspec": {
   "display_name": "base",
   "language": "python",
   "name": "python3"
  },
  "language_info": {
   "codemirror_mode": {
    "name": "ipython",
    "version": 3
   },
   "file_extension": ".py",
   "mimetype": "text/x-python",
   "name": "python",
   "nbconvert_exporter": "python",
   "pygments_lexer": "ipython3",
   "version": "3.9.13"
  },
  "orig_nbformat": 4
 },
 "nbformat": 4,
 "nbformat_minor": 2
}
